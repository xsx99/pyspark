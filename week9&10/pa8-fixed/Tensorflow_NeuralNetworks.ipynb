{
 "cells": [
  {
   "cell_type": "markdown",
   "metadata": {
    "nbgrader": {
     "grade": false,
     "grade_id": "cell-158395db1eb13989",
     "locked": true,
     "schema_version": 1,
     "solution": false
    }
   },
   "source": [
    " **<font size=5>Programming Assignment 8: Neural Networks with Tensorflow</font>**"
   ]
  },
  {
   "cell_type": "markdown",
   "metadata": {
    "nbgrader": {
     "grade": false,
     "grade_id": "cell-c303936544fce875",
     "locked": true,
     "schema_version": 1,
     "solution": false
    }
   },
   "source": [
    "## Problem Statement\n",
    "\n",
    "In this programming assignment, you will write Tensorflow code to distinguish between a signal process which produces Higgs bosons and a background process which does not. We model this problem as a binary classification problem. \n",
    "\n",
    "Note: This assignment is not designed to make you a professional Tensorflow programmer, but rather to introduce you to, and make you practice, the basic constructs and functionalities of Tensorflow. "
   ]
  },
  {
   "cell_type": "markdown",
   "metadata": {
    "nbgrader": {
     "grade": false,
     "grade_id": "cell-9cedd227ae71fb17",
     "locked": true,
     "schema_version": 1,
     "solution": false
    }
   },
   "source": [
    "### CPU vs GPU\n",
    "\n",
    "You may want to read [this article](https://www.analyticsvidhya.com/blog/2017/05/gpus-necessary-for-deep-learning/) to know more about the CPU vs GPU discussion. This is totally optional, still highly recommended for those who are interested. \n",
    "\n",
    "You do not need to write any \"GPU specific\" code. Tensorflow automatically recognizes the underlying hardware, and optimizes your code to run accordingly.\n",
    "\n",
    "The most common bottleneck to training faster with a GPU is usually the speed at which data is fed to the GPU for processing. So the input data pipeline is an important construct when writing efficient, scalable code to train Neural networks using Tensorflow."
   ]
  },
  {
   "cell_type": "markdown",
   "metadata": {
    "nbgrader": {
     "grade": false,
     "grade_id": "cell-f87b642b5252980b",
     "locked": true,
     "schema_version": 1,
     "solution": false
    }
   },
   "source": [
    "### Dataset\n",
    "\n",
    "For this assignment, we will use sampled data from a well known dataset: [Higgs Dataset](https://archive.ics.uci.edu/ml/datasets/HIGGS). \n",
    "\n",
    "Some information regarding the data and the problem: \n",
    "\n",
    "This is a classification problem to distinguish between a signal process which produces Higgs bosons and a background process which does not. The data has been produced using Monte Carlo simulations. The first 21 features (columns 2-22) are kinematic properties measured by the particle detectors in the accelerator. The last seven features are functions of the first 21 features; these are high-level features derived by physicists to help discriminate between the two classes."
   ]
  },
  {
   "cell_type": "markdown",
   "metadata": {
    "nbgrader": {
     "grade": false,
     "grade_id": "cell-0f1b9f41248e8378",
     "locked": true,
     "schema_version": 1,
     "solution": false
    }
   },
   "source": [
    "The train and test files have the following characteristics:\n",
    "\n",
    "- The first row is a header that contains a comma-separated list of the names of the label and attributes\n",
    "- Each successive row represents a single example\n",
    "- The first column of each example is the label to be learned, and all other columns are attribute values.\n",
    "- All attributes are numerical i.e. real numbers."
   ]
  },
  {
   "cell_type": "markdown",
   "metadata": {
    "nbgrader": {
     "grade": false,
     "grade_id": "cell-fc620c75541dd80e",
     "locked": true,
     "schema_version": 1,
     "solution": false
    }
   },
   "source": [
    "### Testing and Evaluation\n",
    "\n",
    "\n",
    "For local testing and for two of the three submissions, you will use the small training and test datasets that have been provided along with this notebook. \n",
    "\n",
    "When submitting on EdX, your code will be trained and evaluated on a much larger sample of the full dataset. \n",
    "\n",
    "Some suggestions you should keep in mind while implementing the functions:\n",
    "\n",
    "- Avoid doing repeated work i.e. anything that could be done outside the loop, should be outside.\n",
    "- Read the markdown of this notebook carefully."
   ]
  },
  {
   "cell_type": "markdown",
   "metadata": {
    "nbgrader": {
     "grade": false,
     "grade_id": "cell-6995099148a8d8ee",
     "locked": true,
     "schema_version": 1,
     "solution": false
    }
   },
   "source": [
    "### Configuration File\n",
    "\n",
    "To make your code more robust, and to aid the process of grading your work, most of the required parameters for the network training and testing will come from a [YAML](http://yaml.org/) config file named \"nn_config.yaml\". \n",
    "\n",
    "This file is present in the same directory as the notebook. We have added default values to parameters, but you may modify them for debugging purposes. \n",
    "\n",
    "Information regarding what these variables mean, and how you should use them is present as comments in the yaml file. Information regarding how to read variables from the YAML config file is mentioned later in this notebook.\n",
    "\n",
    "However, remember that for grading your work we will use our own config files. So your code should always refer to variable values from the config file."
   ]
  },
  {
   "cell_type": "code",
   "execution_count": 10,
   "metadata": {
    "ExecuteTime": {
     "end_time": "2018-08-01T17:51:15.619670Z",
     "start_time": "2018-08-01T17:51:15.169042Z"
    },
    "nbgrader": {
     "grade": false,
     "grade_id": "cell-0e011b46c2ce211f",
     "locked": true,
     "schema_version": 1,
     "solution": false
    }
   },
   "outputs": [
    {
     "name": "stdout",
     "output_type": "stream",
     "text": [
      "cat: nn_config.yaml: No such file or directory\r\n"
     ]
    }
   ],
   "source": [
    "# Let's look at the contents of the YAML config file\n",
    "!cat nn_config.yaml "
   ]
  },
  {
   "cell_type": "markdown",
   "metadata": {
    "nbgrader": {
     "grade": false,
     "grade_id": "cell-4a4e23526701b920",
     "locked": true,
     "schema_version": 1,
     "solution": false
    }
   },
   "source": [
    "## Gameplan\n",
    "\n",
    "You will write robust code that builds a feedforward neural network, and trains it according to the given set of parameters.\n",
    "\n",
    "1. We will first load the training and test data using the parameters from the config file.\n",
    "2. We will then split the training data into training and validation sets using the value of \"training_to_validation_ratio\" parameter in the config. \n",
    "    For example, if the param is 0.8, it means that the initial 80% of the data should be kept for training, while the rest 20% should be used for validation.\n",
    "3. We will use Cross Entropy Loss as our cost functions and minimize it using AdamOptimizer as our optimizer.\n",
    "4. We will train our model in batches inside our main training loop. You will divide the training data into `num_batches` number of mini batches and for each epoch you will iterate and train over those many number of batches.\n",
    "5. You can use \"display_step\" param to control the frequency of print statements.\n",
    "6. You will maintain a list of training accuracies and losses (one value for each epoch).\n",
    "7. You will maintain a list of validation accuracy and loss (one value for each epoch)."
   ]
  },
  {
   "cell_type": "markdown",
   "metadata": {
    "nbgrader": {
     "grade": false,
     "grade_id": "cell-c5dc5f0d1795d09a",
     "locked": true,
     "schema_version": 1,
     "solution": false
    }
   },
   "source": [
    "\n",
    "    The function tf.reduce_sum will allow you to sum across all instances.\n",
    "    "
   ]
  },
  {
   "cell_type": "markdown",
   "metadata": {
    "nbgrader": {
     "grade": false,
     "grade_id": "cell-2952f5d422d0d1e7",
     "locked": true,
     "schema_version": 1,
     "solution": false
    }
   },
   "source": [
    "5) You should train your network using your inputted learning rate and for the inputted number of iterations. The iterations are simply a loop that calls Backpropagation a fixed number of times."
   ]
  },
  {
   "cell_type": "markdown",
   "metadata": {},
   "source": [
    "## Initialization "
   ]
  },
  {
   "cell_type": "code",
   "execution_count": 11,
   "metadata": {
    "ExecuteTime": {
     "end_time": "2018-08-01T17:51:15.629488Z",
     "start_time": "2018-08-01T17:51:15.622808Z"
    },
    "nbgrader": {
     "grade": false,
     "grade_id": "cell-9c01b1c216ee0572",
     "locked": true,
     "schema_version": 1,
     "solution": false
    }
   },
   "outputs": [],
   "source": [
    "## Tensorflow produces a lot of warnings. We generally want to suppress them. The below code does exactly that. \n",
    "import warnings\n",
    "warnings.filterwarnings('ignore')"
   ]
  },
  {
   "cell_type": "code",
   "execution_count": 12,
   "metadata": {
    "ExecuteTime": {
     "end_time": "2018-08-01T17:51:15.639109Z",
     "start_time": "2018-08-01T17:51:15.632354Z"
    },
    "nbgrader": {
     "grade": false,
     "grade_id": "cell-a554a48f73f64b13",
     "locked": true,
     "schema_version": 1,
     "solution": false
    }
   },
   "outputs": [],
   "source": [
    "import tensorflow as tf\n",
    "import numpy as np\n",
    "from matplotlib import pyplot as plt\n",
    "\n",
    "## Pretty Print\n",
    "import pprint as pp"
   ]
  },
  {
   "cell_type": "code",
   "execution_count": 13,
   "metadata": {
    "ExecuteTime": {
     "end_time": "2018-08-01T17:51:15.650484Z",
     "start_time": "2018-08-01T17:51:15.641657Z"
    },
    "nbgrader": {
     "grade": false,
     "grade_id": "cell-d1e7a22edc0fe397",
     "locked": true,
     "schema_version": 1,
     "solution": false
    }
   },
   "outputs": [],
   "source": [
    "import yaml\n",
    "def import_config():\n",
    "    with open(\"./Data/nn_config.yaml\", 'r') as ymlfile:\n",
    "        try:\n",
    "            cfg = yaml.load(ymlfile)\n",
    "        except yaml.YAMLError as err:\n",
    "            print(err)\n",
    "    return cfg"
   ]
  },
  {
   "cell_type": "code",
   "execution_count": 14,
   "metadata": {
    "ExecuteTime": {
     "end_time": "2018-08-01T17:51:15.673634Z",
     "start_time": "2018-08-01T17:51:15.654284Z"
    },
    "nbgrader": {
     "grade": false,
     "grade_id": "cell-fbb7c3cab0be00a7",
     "locked": true,
     "schema_version": 1,
     "solution": false
    }
   },
   "outputs": [
    {
     "name": "stdout",
     "output_type": "stream",
     "text": [
      "Close interactive session\n",
      "Your hardware either does not have a GPU or is not configured to use the GPU version of TF.\n",
      "        However, you do not need a GPU for this assignment as you will be completing this assigment on a\n",
      "        CPU enviroment, but evaluating it on a GPU enviroment.\n"
     ]
    }
   ],
   "source": [
    "if 'session' in locals() and session is not None:\n",
    "    print('Close interactive session')\n",
    "    session.close()\n",
    "\n",
    "config = tf.ConfigProto()\n",
    "config.gpu_options.allow_growth = True                    # Dynamically grow the memory used on the GPU\n",
    "session = tf.Session(config=config)\n",
    "    \n",
    "## The below function tests if Tensorflow has access to GPU or not.\n",
    "def test_cpu_gpu():\n",
    "    if tf.test.gpu_device_name():\n",
    "        print('Default GPU Device: {}'.format(tf.test.gpu_device_name()))\n",
    "    else:\n",
    "        print('''Your hardware either does not have a GPU or is not configured to use the GPU version of TF.\n",
    "        However, you do not need a GPU for this assignment as you will be completing this assigment on a\n",
    "        CPU enviroment, but evaluating it on a GPU enviroment.''')\n",
    "        \n",
    "test_cpu_gpu()"
   ]
  },
  {
   "cell_type": "code",
   "execution_count": 15,
   "metadata": {
    "ExecuteTime": {
     "end_time": "2018-08-01T17:51:15.696436Z",
     "start_time": "2018-08-01T17:51:15.676119Z"
    },
    "nbgrader": {
     "grade": false,
     "grade_id": "cell-4a59bb5add2fa75d",
     "locked": true,
     "schema_version": 1,
     "solution": false
    }
   },
   "outputs": [
    {
     "name": "stdout",
     "output_type": "stream",
     "text": [
      "{'dataset_size': 'large',\n",
      " 'display_step': 1,\n",
      " 'epochs': 200,\n",
      " 'grading_script_path': './Data/grade_test_submission.py',\n",
      " 'hidden_layer_sizes': {'first_layer': 20, 'second_layer': 8},\n",
      " 'learning_rate': 0.05,\n",
      " 'num_mini_batches': 5,\n",
      " 'output_predictions_pickle_path': './test_predictions.pkl',\n",
      " 'test_data_path': './Data/higgs_test_large.csv',\n",
      " 'training_data_path': './Data/higgs_train_large.csv',\n",
      " 'training_to_validation_ratio': 0.8}\n"
     ]
    }
   ],
   "source": [
    "cfg = import_config()\n",
    "\n",
    "## Is it loaded correctly?\n",
    "pp.pprint(cfg)"
   ]
  },
  {
   "cell_type": "markdown",
   "metadata": {},
   "source": [
    "## Reading in Data "
   ]
  },
  {
   "cell_type": "code",
   "execution_count": 16,
   "metadata": {
    "ExecuteTime": {
     "end_time": "2018-08-01T17:51:15.704856Z",
     "start_time": "2018-08-01T17:51:15.698749Z"
    },
    "nbgrader": {
     "grade": false,
     "grade_id": "cell-855db077a3fa0f0b",
     "locked": true,
     "schema_version": 1,
     "solution": false
    }
   },
   "outputs": [],
   "source": [
    "train_file_name = cfg['training_data_path']\n",
    "test_file_name = cfg['test_data_path']"
   ]
  },
  {
   "cell_type": "code",
   "execution_count": 17,
   "metadata": {
    "ExecuteTime": {
     "end_time": "2018-08-01T17:51:15.712989Z",
     "start_time": "2018-08-01T17:51:15.707431Z"
    }
   },
   "outputs": [],
   "source": [
    "# =========================================================================================== #\n",
    "# Uncomment this to test on smaller dataset. This is faster and can be used to debug quickly. #\n",
    "# PLEASE COMMENT THIS BEFORE SUBMITTING. YOUR NOTEBOOK IS EVALUATED ON LARGE DATASET.         #\n",
    "# =========================================================================================== #\n",
    "\n",
    "# train_file_name = './Data/higgs_train_small.csv'\n",
    "# test_file_name = './Data/higgs_test_small.csv'"
   ]
  },
  {
   "cell_type": "code",
   "execution_count": 18,
   "metadata": {
    "ExecuteTime": {
     "end_time": "2018-08-01T17:51:51.737282Z",
     "start_time": "2018-08-01T17:51:15.715730Z"
    },
    "nbgrader": {
     "grade": false,
     "grade_id": "cell-a6fc5a4686fa8347",
     "locked": true,
     "schema_version": 1,
     "solution": false
    }
   },
   "outputs": [],
   "source": [
    "## Loading the Data\n",
    "training_data = np.loadtxt(train_file_name, delimiter = ',')\n",
    "test_data = np.loadtxt(test_file_name, delimiter = ',')"
   ]
  },
  {
   "cell_type": "markdown",
   "metadata": {
    "nbgrader": {
     "grade": false,
     "grade_id": "cell-f6ae15f9a3523674",
     "locked": true,
     "schema_version": 1,
     "solution": false
    }
   },
   "source": [
    "Now we have loaded the training and test data. However, we cannot use it directly. We first need to standardize it."
   ]
  },
  {
   "cell_type": "markdown",
   "metadata": {
    "nbgrader": {
     "grade": false,
     "grade_id": "cell-bb592faa9bc02c71",
     "locked": true,
     "schema_version": 1,
     "solution": false
    }
   },
   "source": [
    "### Exercise: Implement the Standardize Function \n",
    "\n",
    "Neural networks work best when all features roughly are on the same scale and are centered around the mean.\n",
    "\n",
    "This is done by standardizing the feature vectors. Feature standardization makes the values of each feature in the data have zero-mean (when subtracting the mean in the numerator) and unit-variance.\n",
    "\n",
    "The function <font color=\"blue\">standardize</font> takes the input data and determines the distribution mean and standard deviation for each feature. Next the mean is subtracted from each feature. Then the mean-subtracted values of each feature are divided by its standard deviation.\n",
    "\n",
    "**<font color=\"magenta\" size=2>Example Input</font>**\n",
    "There are 3 training examples with 4 features each \n",
    "``` python\n",
    "np.array([[-0.22 -0.19 -0.17 -0.13][-0.1 -0.05 0.02 0.10][0.03 0.11 0.12 0.15]])\n",
    "```\n",
    "\n",
    "**<font color=\"blue\" size=2>Example Output</font>**\n",
    "There are 3 training examples (which have been standardized) along each of the 4 features\n",
    "``` python\n",
    "array([[-1.20809282, -1.19664225, -1.33025759, -1.39425471],\n",
    "       [-0.03265116, -0.05439283,  0.2494233 ,  0.4920899 ],\n",
    "       [ 1.24074398,  1.25103507,  1.08083429,  0.90216481]])\n",
    "```\n",
    "\n",
    "Refer the \"Standardization\" section of this [Wikipedia Feature Scaling Article](https://en.wikipedia.org/wiki/Feature_scaling)."
   ]
  },
  {
   "cell_type": "code",
   "execution_count": 19,
   "metadata": {
    "ExecuteTime": {
     "end_time": "2018-08-01T17:51:51.745009Z",
     "start_time": "2018-08-01T17:51:51.739286Z"
    },
    "nbgrader": {
     "grade": false,
     "grade_id": "cell-305b411920b596a3",
     "locked": false,
     "schema_version": 1,
     "solution": true
    }
   },
   "outputs": [],
   "source": [
    "def standardize(data):\n",
    "    #\n",
    "    # YOUR CODE HERE\n",
    "    #\n"
   ]
  },
  {
   "cell_type": "code",
   "execution_count": 20,
   "metadata": {
    "ExecuteTime": {
     "end_time": "2018-08-01T17:51:51.764296Z",
     "start_time": "2018-08-01T17:51:51.747302Z"
    },
    "nbgrader": {
     "grade": true,
     "grade_id": "standardize_vt",
     "locked": true,
     "points": "5",
     "schema_version": 1,
     "solution": false
    },
    "scrolled": true
   },
   "outputs": [],
   "source": [
    "dummy = np.array([[-0.22, -0.19, -0.17, -0.13],[-0.1, -0.05, 0.02, 0.10],[0.03, 0.11, 0.12, 0.15]])\n",
    "assert standardize(dummy).__class__ == np.ndarray, \"should return numpy array\"\n",
    "assert standardize(dummy).shape == dummy.shape, \"should have the same shape as the input array\"\n",
    "\n",
    "dummy_ans = np.round(np.array([[-1.20809282, -1.19664225, -1.33025759, -1.39425471],\n",
    "       [-0.03265116, -0.05439283,  0.2494233 ,  0.4920899 ],\n",
    "       [ 1.24074398,  1.25103507,  1.08083429,  0.90216481]]),3)\n",
    "assert (np.round(standardize(dummy)[0],3)==dummy_ans[0]).all(), \"check for correct return value failed\"\n",
    "assert (np.round(standardize(dummy)[2],3)==dummy_ans[2]).all(), \"check for correct return value failed\"\n",
    "del dummy, dummy_ans"
   ]
  },
  {
   "cell_type": "code",
   "execution_count": 21,
   "metadata": {
    "ExecuteTime": {
     "end_time": "2018-08-01T17:51:51.771733Z",
     "start_time": "2018-08-01T17:51:51.767279Z"
    },
    "nbgrader": {
     "grade": true,
     "grade_id": "standardize_ht",
     "locked": true,
     "points": "10",
     "schema_version": 1,
     "solution": false
    },
    "scrolled": true
   },
   "outputs": [],
   "source": [
    "# Hidden Tests Here\n",
    "\n",
    "#\n",
    "# AUTOGRADER TEST - DO NOT REMOVE\n",
    "#\n"
   ]
  },
  {
   "cell_type": "markdown",
   "metadata": {
    "nbgrader": {
     "grade": false,
     "grade_id": "cell-6d1d2ce4cf36f9c1",
     "locked": true,
     "schema_version": 1,
     "solution": false
    }
   },
   "source": [
    "### Exercise: Implement the parse_training_data function\n",
    "\n",
    "The function <font color=\"blue\">parse_training_data</font> takes the input data and returns labels and features. \n",
    "\n",
    "Remember that the first column of the training data is the labels, and the remaining columns are the features\n",
    "\n",
    "The labels should be reshaped to a 2-D numpy matrix of shape (dataset_size, 1)\n",
    "The features should be standardized and have be a 2-D numpy matrix of shape (dataset_size, 28)\n",
    "\n",
    "**<font color=\"magenta\" size=2>Example Input</font>**\n",
    "There are 3 training examples with the label and 3 features each \n",
    "``` python\n",
    "np.array([[1 -0.19 -0.17 -0.13][0 -0.05 0.02 0.10][0 0.11 0.12 0.15]])\n",
    "```\n",
    "\n",
    "**<font color=\"blue\" size=2>Example Output</font>**\n",
    "Returns a tuple:\n",
    "    1st element is the labels\n",
    "    2nd element is the standardized features\n",
    "``` python\n",
    "(array([[1.],\n",
    "        [0.],\n",
    "        [1.]]), array([[-1.4688735 , -1.3105518 , -0.99390842],\n",
    "        [-0.36062164,  0.19350429,  0.82679107],\n",
    "        [ 0.90595192,  0.98511277,  1.22259531]]))\n",
    "```\n",
    "\n",
    "\n",
    "Remember to use the standardize function appropriately inside this function and use the visible assert statements to finetune the shape of your returned data."
   ]
  },
  {
   "cell_type": "code",
   "execution_count": 22,
   "metadata": {
    "ExecuteTime": {
     "end_time": "2018-08-01T17:51:51.781357Z",
     "start_time": "2018-08-01T17:51:51.774327Z"
    },
    "nbgrader": {
     "grade": false,
     "grade_id": "cell-b74473c65b9d3782",
     "locked": false,
     "schema_version": 1,
     "solution": true
    }
   },
   "outputs": [],
   "source": [
    "def parse_training_data(numpy_matrix):\n",
    "    #\n",
    "    # YOUR CODE HERE\n",
    "    #\n",
    "    \n",
    "    return labels, features"
   ]
  },
  {
   "cell_type": "code",
   "execution_count": 23,
   "metadata": {
    "ExecuteTime": {
     "end_time": "2018-08-01T17:51:52.351974Z",
     "start_time": "2018-08-01T17:51:51.784597Z"
    },
    "nbgrader": {
     "grade": false,
     "grade_id": "cell-f0e069072154f863",
     "locked": true,
     "schema_version": 1,
     "solution": false
    }
   },
   "outputs": [],
   "source": [
    "# Parse Training Data. You will later split the `labels` and `features` into training and validation sets.\n",
    "labels, features = parse_training_data(training_data)"
   ]
  },
  {
   "cell_type": "code",
   "execution_count": 24,
   "metadata": {
    "ExecuteTime": {
     "end_time": "2018-08-01T17:51:52.357168Z",
     "start_time": "2018-08-01T17:51:52.354106Z"
    },
    "nbgrader": {
     "grade": true,
     "grade_id": "shape_v",
     "locked": true,
     "points": "5",
     "schema_version": 1,
     "solution": false
    }
   },
   "outputs": [],
   "source": [
    "assert labels.shape[1] == 1\n",
    "assert features.shape[1] == 28"
   ]
  },
  {
   "cell_type": "code",
   "execution_count": 25,
   "metadata": {
    "ExecuteTime": {
     "end_time": "2018-08-01T17:51:52.363953Z",
     "start_time": "2018-08-01T17:51:52.360316Z"
    },
    "nbgrader": {
     "grade": true,
     "grade_id": "values_h",
     "locked": true,
     "points": "10",
     "schema_version": 1,
     "solution": false
    }
   },
   "outputs": [],
   "source": [
    "#\n",
    "# AUTOGRADER TEST - DO NOT REMOVE\n",
    "#\n"
   ]
  },
  {
   "cell_type": "markdown",
   "metadata": {
    "nbgrader": {
     "grade": false,
     "grade_id": "cell-714a63065a14a65f",
     "locked": true,
     "schema_version": 1,
     "solution": false
    }
   },
   "source": [
    "### Exercise: Implement the parse_test_data function\n",
    "\n",
    "The function <font color=\"blue\">parse_test_data</font> takes the input data and returns labels and features. \n",
    "\n",
    "We do not have access to labels while predicting the classes that our test examples belong to. The input data files for the test data would not have the labels column. \n",
    "\n",
    "So we need a different function to parse the test data. This should only return standardized features.\n",
    "\n",
    "The features should be standardized and have be a 2-D numpy matrix of shape (dataset_size, 28)\n",
    "\n",
    "**<font color=\"magenta\" size=2>Example Input</font>**\n",
    "There are 3 training examples with the label and 3 features each \n",
    "``` python\n",
    "np.array([[-0.19 -0.17 -0.13][-0.05 0.02 0.10][0.11 0.12 0.15]])\n",
    "```\n",
    "\n",
    "**<font color=\"blue\" size=2>Example Output</font>**\n",
    "Returns a tuple:\n",
    "    1st element is the labels\n",
    "    2nd element is the standardized features\n",
    "``` python\n",
    "array([[-1.4688735 , -1.3105518 , -0.99390842],\n",
    "        [-0.36062164,  0.19350429,  0.82679107],\n",
    "        [ 0.90595192,  0.98511277,  1.22259531]])\n",
    "```\n",
    "\n",
    "\n",
    "Remember to use the standardize function appropriately inside this function."
   ]
  },
  {
   "cell_type": "code",
   "execution_count": 26,
   "metadata": {
    "ExecuteTime": {
     "end_time": "2018-08-01T17:51:52.372998Z",
     "start_time": "2018-08-01T17:51:52.367115Z"
    },
    "nbgrader": {
     "grade": false,
     "grade_id": "cell-cd58458c52559f0a",
     "locked": false,
     "schema_version": 1,
     "solution": true
    }
   },
   "outputs": [],
   "source": [
    "def parse_test_data(numpy_matrix):\n",
    "    #\n",
    "    # YOUR CODE HERE\n",
    "    #\n",
    "    \n",
    "    return test_features"
   ]
  },
  {
   "cell_type": "code",
   "execution_count": 27,
   "metadata": {
    "ExecuteTime": {
     "end_time": "2018-08-01T17:51:52.481851Z",
     "start_time": "2018-08-01T17:51:52.376333Z"
    },
    "nbgrader": {
     "grade": false,
     "grade_id": "cell-febfb665f2f27e1e",
     "locked": true,
     "schema_version": 1,
     "solution": false
    }
   },
   "outputs": [],
   "source": [
    "test_features = parse_test_data(test_data)"
   ]
  },
  {
   "cell_type": "markdown",
   "metadata": {
    "nbgrader": {
     "grade": false,
     "grade_id": "cell-0de20ca899b3afe6",
     "locked": true,
     "schema_version": 1,
     "solution": false
    }
   },
   "source": [
    "## Building the Neural Network "
   ]
  },
  {
   "cell_type": "markdown",
   "metadata": {
    "nbgrader": {
     "grade": false,
     "grade_id": "cell-6b3f768be0607ffd",
     "locked": true,
     "schema_version": 1,
     "solution": false
    }
   },
   "source": [
    "### Initializing important parameters\n",
    "Use the below params appropriately inside the train_nn() function. We have initialized these variables in order to assist you in your implementation."
   ]
  },
  {
   "cell_type": "code",
   "execution_count": 28,
   "metadata": {
    "ExecuteTime": {
     "end_time": "2018-08-01T17:51:52.500886Z",
     "start_time": "2018-08-01T17:51:52.484175Z"
    },
    "nbgrader": {
     "grade": false,
     "grade_id": "cell-9496cea12852d1fa",
     "locked": true,
     "schema_version": 1,
     "solution": false
    }
   },
   "outputs": [
    {
     "name": "stdout",
     "output_type": "stream",
     "text": [
      "Total Training examples: 800000, Number of Batches: 5, Batch Size: 160000\n"
     ]
    }
   ],
   "source": [
    "learning_rate = cfg['learning_rate']\n",
    "training_epochs = cfg['epochs']\n",
    "train_valid_split = cfg['training_to_validation_ratio']\n",
    "num_batches = cfg['num_mini_batches']\n",
    "display_step = cfg['display_step']\n",
    "\n",
    "num_examples= training_data.shape[0]\n",
    "\n",
    "# The first `num_train_examples` should be used for training, the rest for validation.\n",
    "num_train_examples = int(num_examples * train_valid_split)\n",
    "\n",
    "batch_size = num_train_examples/num_batches\n",
    "\n",
    "\n",
    "# Network Parameters\n",
    "n_hidden_1 = cfg['hidden_layer_sizes']['first_layer'] # 1st layer number of features\n",
    "n_hidden_2 = cfg['hidden_layer_sizes']['second_layer'] # 2nd layer number of features\n",
    "n_input = 28 \n",
    "n_classes = 1 \n",
    "\n",
    "\n",
    "print(\"Total Training examples: %d, Number of Batches: %d, Batch Size: %d\" %(num_train_examples,num_batches,batch_size))"
   ]
  },
  {
   "cell_type": "markdown",
   "metadata": {
    "nbgrader": {
     "grade": false,
     "grade_id": "cell-dc994f1830e0a244",
     "locked": true,
     "schema_version": 1,
     "solution": false
    }
   },
   "source": [
    "### Initializing placeholders for feeding into the TF graph\n",
    "\n",
    "Define the TF placeholders which will receive data for each mini batch. Similarly define weights and biases as TF variables "
   ]
  },
  {
   "cell_type": "code",
   "execution_count": 29,
   "metadata": {
    "ExecuteTime": {
     "end_time": "2018-08-01T17:51:52.557068Z",
     "start_time": "2018-08-01T17:51:52.502745Z"
    },
    "nbgrader": {
     "grade": false,
     "grade_id": "cell-47aa2936b36e30b8",
     "locked": true,
     "schema_version": 1,
     "solution": false
    }
   },
   "outputs": [],
   "source": [
    "# TF Graph input\n",
    "## Use the below placeholders appropriately inside the train_nn() function\n",
    "\n",
    "x = tf.placeholder(\"float\", [None, n_input])\n",
    "y = tf.placeholder(\"float\", [None, 1])\n",
    "\n",
    "\n",
    "# Store layers weight & bias\n",
    "weights = {\n",
    "    'h1': tf.Variable(tf.random_normal([n_input, n_hidden_1])),\n",
    "    'h2': tf.Variable(tf.random_normal([n_hidden_1, n_hidden_2])),\n",
    "    'out': tf.Variable(tf.random_normal([n_hidden_2, n_classes]))\n",
    "}\n",
    "\n",
    "biases = {\n",
    "    'b1': tf.Variable(tf.random_normal([n_hidden_1])),\n",
    "    'b2': tf.Variable(tf.random_normal([n_hidden_2])),\n",
    "    'out': tf.Variable(tf.random_normal([n_classes]))\n",
    "}"
   ]
  },
  {
   "cell_type": "markdown",
   "metadata": {
    "nbgrader": {
     "grade": false,
     "grade_id": "cell-714a63065a14a6sd5f",
     "locked": true,
     "schema_version": 1,
     "solution": false
    }
   },
   "source": [
    "### Exercise: Implement the `calc_num_total_learnable_params` function.\n",
    "\n",
    "This function  calculates the number of learnable parameters of the network model. This number directly relates to the complexity of your model, as well as the training time. \n",
    "\n",
    "The function <font color=\"blue\">calc_num_total_learnable_params</font> takes the weights dictionary and bias dictionary and returns an integer which is equal to the number of total parameters in the network. \n",
    "\n",
    "You can make use of the `get_dims_as_tuple` as a helper function to access the shape of the weight and bias matrices easily."
   ]
  },
  {
   "cell_type": "code",
   "execution_count": 30,
   "metadata": {
    "ExecuteTime": {
     "end_time": "2018-08-01T17:51:52.574462Z",
     "start_time": "2018-08-01T17:51:52.559079Z"
    },
    "nbgrader": {
     "grade": false,
     "grade_id": "cell-bb3e6250332e0033",
     "locked": true,
     "schema_version": 1,
     "solution": false
    }
   },
   "outputs": [
    {
     "data": {
      "text/plain": [
       "(28, 20)"
      ]
     },
     "execution_count": 30,
     "metadata": {},
     "output_type": "execute_result"
    }
   ],
   "source": [
    "# Helper function which you may use in implementing `calc_num_total_learnable_params(weights,biases)` function below.\n",
    "def get_dims_as_tuple(x):\n",
    "    shape = x.get_shape()\n",
    "    dims = []\n",
    "    for dim in shape:\n",
    "        dims.append(dim.value)\n",
    "    return tuple(dims)\n",
    "\n",
    "# example usage:\n",
    "get_dims_as_tuple(weights['h1'])"
   ]
  },
  {
   "cell_type": "code",
   "execution_count": 31,
   "metadata": {
    "ExecuteTime": {
     "end_time": "2018-08-01T17:51:52.589681Z",
     "start_time": "2018-08-01T17:51:52.577038Z"
    },
    "nbgrader": {
     "grade": false,
     "grade_id": "cell-94e7366afdd6358a",
     "locked": false,
     "schema_version": 1,
     "solution": true
    }
   },
   "outputs": [],
   "source": [
    "def calc_num_total_learnable_params(weights,biases):\n",
    "    #\n",
    "    # YOUR CODE HERE\n",
    "    #\n",
    "    "
   ]
  },
  {
   "cell_type": "code",
   "execution_count": null,
   "metadata": {
    "nbgrader": {
     "grade": true,
     "grade_id": "learnable_ht",
     "locked": true,
     "points": "10",
     "schema_version": 1,
     "solution": false
    }
   },
   "outputs": [],
   "source": [
    "## Hidden Tests Here\n",
    "#\n",
    "# AUTOGRADER TEST - DO NOT REMOVE\n",
    "#\n"
   ]
  },
  {
   "cell_type": "markdown",
   "metadata": {
    "nbgrader": {
     "grade": false,
     "grade_id": "cell-40285d4b5a7d0481",
     "locked": true,
     "schema_version": 1,
     "solution": false
    }
   },
   "source": [
    "### Exercise: Create FeedForward Network Model\n",
    "\n",
    "This function needs to be filled up with code to construct the remaining two layers of the neural network. You have to add one more hidden layers and also the output layer.\n",
    "\n",
    "You should use the sigmoid activation function. Tensorflow's `tf.nn.sigmoid()` function should be helpful. \n",
    "\n",
    "We have partially implemented this function. Complete the rest of it. Remember to not apply the sigmoid activation at the last layer as we will be using `tf.nn.sigmoid_cross_entropy_with_logits()` later which does that.\n"
   ]
  },
  {
   "cell_type": "code",
   "execution_count": 32,
   "metadata": {
    "ExecuteTime": {
     "end_time": "2018-08-01T17:52:34.104463Z",
     "start_time": "2018-08-01T17:52:34.089295Z"
    },
    "nbgrader": {
     "grade": false,
     "grade_id": "cell-0fd6390a18e16110",
     "locked": false,
     "schema_version": 1,
     "solution": true
    }
   },
   "outputs": [],
   "source": [
    "def create_feedforward_nn_model(x, weights, biases):\n",
    "    # Hidden layer with SIGMOID activation\n",
    "    layer_1 = tf.add(tf.matmul(x, weights['h1']), biases['b1'])\n",
    "    layer_1 = tf.nn.sigmoid(layer_1)\n",
    "    \n",
    "    #\n",
    "    # YOUR CODE HERE\n",
    "    #\n",
    "    \n",
    "    return out_layer\n",
    "\n"
   ]
  },
  {
   "cell_type": "markdown",
   "metadata": {
    "nbgrader": {
     "grade": false,
     "grade_id": "cell-6fcb5f53e1dbbae9",
     "locked": true,
     "schema_version": 1,
     "solution": false
    }
   },
   "source": [
    "### Exercise: Stitch the Neural Network Model\n",
    "\n",
    "Using the appropriate Tensorflow libraries, implement each of the following operations:\n",
    "- loss as the CrossEntropyLoss\n",
    "- train_op as the AdamOptimizer that minimizes the loss\n",
    "\n",
    "As inputs to these operators, you can use:\n",
    "- `pred_raw` which is the output of your neural network's last layer\n",
    "- `pred` is the predicted label, which is the output of rounding `pred_raw`. \n",
    "\n",
    "You might want to look at the Tensorflow Section notebooks as well as the TensorFlow API.\n",
    "\n",
    "Two of the returned values have been implemented as a hint for you.\n",
    "\n",
    "Functions that could be useful here: \n",
    "\n",
    "```python\n",
    "tf.nn.sigmoid_cross_entropy_with_logits()\n",
    "tf.reduce_mean()\n",
    "tf.round()\n",
    "tf.sigmoid()\n",
    "tf.train.AdamOptimizer().minimize()\n",
    "```"
   ]
  },
  {
   "cell_type": "code",
   "execution_count": 33,
   "metadata": {
    "ExecuteTime": {
     "end_time": "2018-08-01T17:53:06.176616Z",
     "start_time": "2018-08-01T17:53:05.922923Z"
    },
    "nbgrader": {
     "grade": false,
     "grade_id": "cell-2a697316f54fa391",
     "locked": false,
     "schema_version": 1,
     "solution": true
    }
   },
   "outputs": [],
   "source": [
    "# Construct model\n",
    "def stitch_network(x, y, weights, biases, learning_rate):\n",
    "    \n",
    "    pred_raw = create_feedforward_nn_model(x, weights, biases)\n",
    "    pred = tf.round(tf.nn.sigmoid(pred_raw))\n",
    "    \n",
    "    #\n",
    "    # YOUR CODE HERE\n",
    "    #\n",
    "    \n",
    "    return pred_raw, pred, cost, train_op\n",
    "\n",
    "\n",
    "pred_raw, pred, cost, train_op = stitch_network(x, y, weights, biases, learning_rate)"
   ]
  },
  {
   "cell_type": "code",
   "execution_count": 34,
   "metadata": {
    "ExecuteTime": {
     "end_time": "2018-08-01T17:53:08.571489Z",
     "start_time": "2018-08-01T17:53:08.567745Z"
    },
    "nbgrader": {
     "grade": true,
     "grade_id": "shape2_v",
     "locked": true,
     "points": "5",
     "schema_version": 1,
     "solution": false
    }
   },
   "outputs": [],
   "source": [
    "assert cost.__class__ == tf.Tensor\n",
    "assert cost.get_shape() == (), \"Make sure you have used reduce_mean\""
   ]
  },
  {
   "cell_type": "code",
   "execution_count": 35,
   "metadata": {
    "ExecuteTime": {
     "end_time": "2018-08-01T17:53:09.219752Z",
     "start_time": "2018-08-01T17:53:09.215291Z"
    },
    "nbgrader": {
     "grade": false,
     "grade_id": "cell-e9b4c53caccf6e1d",
     "locked": true,
     "schema_version": 1,
     "solution": false
    }
   },
   "outputs": [],
   "source": [
    "# Initializing the variables - IMPORTANT\n",
    "init = tf.global_variables_initializer()"
   ]
  },
  {
   "cell_type": "markdown",
   "metadata": {
    "nbgrader": {
     "grade": false,
     "grade_id": "cell-b683e70b1b3eafa0",
     "locked": true,
     "schema_version": 1,
     "solution": false
    }
   },
   "source": [
    "## Training and Testing the Neural Network"
   ]
  },
  {
   "cell_type": "markdown",
   "metadata": {
    "nbgrader": {
     "grade": false,
     "grade_id": "cell-b683e70b1b3asdaeafa0",
     "locked": true,
     "schema_version": 1,
     "solution": false
    }
   },
   "source": [
    "### Exercise: Writing the Train function\n",
    "\n",
    "This is where you will train your network.\n",
    "\n",
    "Your goal is to complete the following function named `train_nn()`. \n",
    "\n",
    "To help you structure your implementation, we have provided some starter code. \n",
    "\n",
    "We have also detailed each of the steps you need to pay attention to inside the main training loop.\n",
    "\n",
    "Remember you have access to all the parameters we initialized early on in the notebook, as well as to the parameters defined in the config file. \n",
    "\n",
    "`train_nn()` should return 5 python lists\n",
    "1. training_costs\n",
    "2. validation_costs\n",
    "3. training_accs\n",
    "4. validation_accs\n",
    "5. test_predictions "
   ]
  },
  {
   "cell_type": "code",
   "execution_count": 36,
   "metadata": {
    "ExecuteTime": {
     "end_time": "2018-08-01T17:54:25.061219Z",
     "start_time": "2018-08-01T17:54:24.828597Z"
    },
    "nbgrader": {
     "grade": false,
     "grade_id": "cell-cd22bec67d6afd31",
     "locked": false,
     "schema_version": 1,
     "solution": true
    }
   },
   "outputs": [],
   "source": [
    "def train_nn():\n",
    "    with tf.Session() as sess:\n",
    "\n",
    "        sess.run(init)\n",
    "        \n",
    "        ## this is needed to print debug statements during training.\n",
    "        coord = tf.train.Coordinator()\n",
    "        threads = tf.train.start_queue_runners(coord=coord)\n",
    "\n",
    "        x_train, x_valid = features[:num_train_examples], features[num_train_examples:]\n",
    "        y_train, y_valid = labels[:num_train_examples], labels[num_train_examples:]\n",
    "\n",
    "        training_costs = []\n",
    "        training_accs = []\n",
    "\n",
    "        validation_costs = []\n",
    "        validation_accs = []\n",
    "\n",
    "        for epoch in range(training_epochs):\n",
    "        \n",
    "            '''\n",
    "            We recommend you first think about how you will implement this on your own before proceeding to read any further.\n",
    "        \n",
    "            HINT: You should implement the following procedure here:\n",
    "        \n",
    "            An epoch is one pass through your training data\n",
    "            1. Keep a counter of your epoch's total cost. \n",
    "               You will need this to average over the batches.\n",
    "            2. Keep a counter of the number of correct predictions in your epoch. \n",
    "               You will need this to sum over the batches to calculate per epoch accuracy.\n",
    "            \n",
    "            For each batch  (you should have `num_batches` number of batches totally)\n",
    "                --Batchwise training--\n",
    "                3. subset your features and labels from x_train and y_train\n",
    "                ex. for batch 1, you'd select all examples in the interval [0,batch_size)\n",
    "                    for batch 2, it would be between [batch_size, 2*batch_size)\n",
    "                    Make sure to account for a possible fractional batch as your last batch\n",
    "                4. Massage your x_batch and y_batch into numpy arrays of shape (size_of_batch, 28) \n",
    "                    and (size_of_batch, 1) respectively\n",
    "                    \n",
    "                5. Feed the x_batch and y_batch into your tensorflow graph and execute the optimizer, cost and pred \n",
    "                    in order to train your model using the current batch and also get back the batch_cost and batch_predictions\n",
    "                6. Count the number of correct predictions for this batch and add it to the counter for the \n",
    "                    correct predictions in the epoch\n",
    "                    \n",
    "            7. Calculate your average_epoch_cost as the total_epoch_cost divided by the number of training examples\n",
    "            8. Append the average_epoch_cost to `training_costs`\n",
    "            9. Calculate your epoch_accuracy as the total number of correct predictions in your epoch\n",
    "                    divided by the number of training examples\n",
    "            10. Append the epoch_accuracy to `training_accs`\n",
    "            \n",
    "            --Validation--\n",
    "            \n",
    "            11. Massage your validation labels (y_valid) into a numpy arrays of shape (validation_set_size, 1)\n",
    "            12. With y_valid and x_valid as input to your graph, calculate the validation loss and validation predictions\n",
    "                    We are calculating validation accuracy at the end of each epoch\n",
    "            13. Calculate the number of correct validation predictions by comparing against your validation labels\n",
    "            14. Append validation costs and validation accuracy to their respective lists\n",
    "            15. Avoid printing a lot of debug information when you submit the assignment. \n",
    "                This reduces the speed of execution.\n",
    "                If you want to print some information every so often, you can use the following line \n",
    "                at the end of your epoch loop:\n",
    "                if epoch%display_step==0:\n",
    "                    print(\"Epoch %d | Tr cost: %f | Tr accuracy %f | Va cost: %f | Va accuracy: \n",
    "                        %f\"%(epoch + 1,avg_epoch_cost, this_epoch_accuracy, batch_valid_cost, valid_accuracy))\n",
    "            '''\n",
    "        #\n",
    "        # YOUR CODE HERE\n",
    "        #\n",
    "\n",
    "        \n",
    "        ## hack\n",
    "        validation_costs = list(np.array(validation_costs,dtype=np.float64))\n",
    "        #\n",
    "        \n",
    "        print(\"Optimization Finished!\")\n",
    "\n",
    "        ## Assuming the above part is completed, you should now use your trained model to make predictions on the test set.\n",
    "        test_predictions = []\n",
    "        \n",
    "        #\n",
    "        # YOUR CODE HERE\n",
    "        #\n",
    "        \n",
    "        \n",
    "        ## this is needed to print debug statements during training.\n",
    "        coord.request_stop()\n",
    "        coord.join(threads)\n",
    "    \n",
    "    ## close TF session if open\n",
    "    if 'session' in locals() and sess is not None:\n",
    "        print('Close interactive session')\n",
    "        sess.close()\n",
    "        \n",
    "    return training_costs, validation_costs, training_accs, validation_accs, test_predictions"
   ]
  },
  {
   "cell_type": "code",
   "execution_count": 37,
   "metadata": {
    "ExecuteTime": {
     "end_time": "2018-08-01T17:58:32.963706Z",
     "start_time": "2018-08-01T17:54:27.170269Z"
    },
    "nbgrader": {
     "grade": false,
     "grade_id": "cell-099ff13f7570ad44",
     "locked": true,
     "schema_version": 1,
     "solution": false
    }
   },
   "outputs": [
    {
     "name": "stdout",
     "output_type": "stream",
     "text": [
      "Epoch 1 | Tr cost: 0.796022 | Tr accuracy 0.504571 | Va cost: 0.736627 | Va accuracy: 0.541970\n",
      "Epoch 2 | Tr cost: 0.724115 | Tr accuracy 0.544425 | Va cost: 0.689876 | Va accuracy: 0.557800\n",
      "Epoch 3 | Tr cost: 0.682532 | Tr accuracy 0.563767 | Va cost: 0.680980 | Va accuracy: 0.567880\n",
      "Epoch 4 | Tr cost: 0.680275 | Tr accuracy 0.568832 | Va cost: 0.673209 | Va accuracy: 0.582220\n",
      "Epoch 5 | Tr cost: 0.667539 | Tr accuracy 0.593633 | Va cost: 0.661799 | Va accuracy: 0.602920\n",
      "Epoch 6 | Tr cost: 0.660465 | Tr accuracy 0.604016 | Va cost: 0.657436 | Va accuracy: 0.608500\n",
      "Epoch 7 | Tr cost: 0.654091 | Tr accuracy 0.613525 | Va cost: 0.649445 | Va accuracy: 0.620275\n",
      "Epoch 8 | Tr cost: 0.647597 | Tr accuracy 0.622753 | Va cost: 0.645165 | Va accuracy: 0.625445\n",
      "Epoch 9 | Tr cost: 0.642963 | Tr accuracy 0.627949 | Va cost: 0.639669 | Va accuracy: 0.632350\n",
      "Epoch 10 | Tr cost: 0.638093 | Tr accuracy 0.632785 | Va cost: 0.635667 | Va accuracy: 0.636070\n",
      "Epoch 11 | Tr cost: 0.633905 | Tr accuracy 0.638150 | Va cost: 0.631389 | Va accuracy: 0.642970\n",
      "Epoch 12 | Tr cost: 0.629753 | Tr accuracy 0.645199 | Va cost: 0.627724 | Va accuracy: 0.648440\n",
      "Epoch 13 | Tr cost: 0.625732 | Tr accuracy 0.649930 | Va cost: 0.624042 | Va accuracy: 0.652100\n",
      "Epoch 14 | Tr cost: 0.621985 | Tr accuracy 0.653972 | Va cost: 0.620457 | Va accuracy: 0.658200\n",
      "Epoch 15 | Tr cost: 0.618399 | Tr accuracy 0.659960 | Va cost: 0.616956 | Va accuracy: 0.662495\n",
      "Epoch 16 | Tr cost: 0.614769 | Tr accuracy 0.663935 | Va cost: 0.613356 | Va accuracy: 0.666205\n",
      "Epoch 17 | Tr cost: 0.611098 | Tr accuracy 0.667865 | Va cost: 0.609778 | Va accuracy: 0.670315\n",
      "Epoch 18 | Tr cost: 0.607474 | Tr accuracy 0.671826 | Va cost: 0.606336 | Va accuracy: 0.672725\n",
      "Epoch 19 | Tr cost: 0.603847 | Tr accuracy 0.675116 | Va cost: 0.602888 | Va accuracy: 0.676605\n",
      "Epoch 20 | Tr cost: 0.600230 | Tr accuracy 0.678658 | Va cost: 0.599450 | Va accuracy: 0.679835\n",
      "Epoch 21 | Tr cost: 0.596621 | Tr accuracy 0.682320 | Va cost: 0.595954 | Va accuracy: 0.683035\n",
      "Epoch 22 | Tr cost: 0.593009 | Tr accuracy 0.685810 | Va cost: 0.592481 | Va accuracy: 0.686055\n",
      "Epoch 23 | Tr cost: 0.589386 | Tr accuracy 0.689017 | Va cost: 0.589008 | Va accuracy: 0.689330\n",
      "Epoch 24 | Tr cost: 0.585784 | Tr accuracy 0.692186 | Va cost: 0.585583 | Va accuracy: 0.691595\n",
      "Epoch 25 | Tr cost: 0.582261 | Tr accuracy 0.695009 | Va cost: 0.582258 | Va accuracy: 0.694210\n",
      "Epoch 26 | Tr cost: 0.578912 | Tr accuracy 0.697561 | Va cost: 0.579069 | Va accuracy: 0.696055\n",
      "Epoch 27 | Tr cost: 0.575771 | Tr accuracy 0.699721 | Va cost: 0.576002 | Va accuracy: 0.698020\n",
      "Epoch 28 | Tr cost: 0.572836 | Tr accuracy 0.701562 | Va cost: 0.573082 | Va accuracy: 0.700355\n",
      "Epoch 29 | Tr cost: 0.570078 | Tr accuracy 0.703185 | Va cost: 0.570297 | Va accuracy: 0.702160\n",
      "Epoch 30 | Tr cost: 0.567469 | Tr accuracy 0.704430 | Va cost: 0.567648 | Va accuracy: 0.703615\n",
      "Epoch 31 | Tr cost: 0.564984 | Tr accuracy 0.706143 | Va cost: 0.565119 | Va accuracy: 0.705070\n",
      "Epoch 32 | Tr cost: 0.562592 | Tr accuracy 0.707365 | Va cost: 0.562779 | Va accuracy: 0.706885\n",
      "Epoch 33 | Tr cost: 0.560322 | Tr accuracy 0.708624 | Va cost: 0.560693 | Va accuracy: 0.707930\n",
      "Epoch 34 | Tr cost: 0.558261 | Tr accuracy 0.709897 | Va cost: 0.558816 | Va accuracy: 0.709315\n",
      "Epoch 35 | Tr cost: 0.556408 | Tr accuracy 0.711211 | Va cost: 0.556999 | Va accuracy: 0.710960\n",
      "Epoch 36 | Tr cost: 0.554699 | Tr accuracy 0.712462 | Va cost: 0.555159 | Va accuracy: 0.712130\n",
      "Epoch 37 | Tr cost: 0.553076 | Tr accuracy 0.713557 | Va cost: 0.553454 | Va accuracy: 0.713315\n",
      "Epoch 38 | Tr cost: 0.551545 | Tr accuracy 0.714534 | Va cost: 0.551977 | Va accuracy: 0.714205\n",
      "Epoch 39 | Tr cost: 0.550139 | Tr accuracy 0.715418 | Va cost: 0.550672 | Va accuracy: 0.715275\n",
      "Epoch 40 | Tr cost: 0.548845 | Tr accuracy 0.716492 | Va cost: 0.549438 | Va accuracy: 0.715915\n",
      "Epoch 41 | Tr cost: 0.547643 | Tr accuracy 0.717164 | Va cost: 0.548248 | Va accuracy: 0.716490\n",
      "Epoch 42 | Tr cost: 0.546543 | Tr accuracy 0.718066 | Va cost: 0.547235 | Va accuracy: 0.717595\n",
      "Epoch 43 | Tr cost: 0.545533 | Tr accuracy 0.718789 | Va cost: 0.546266 | Va accuracy: 0.718535\n",
      "Epoch 44 | Tr cost: 0.544588 | Tr accuracy 0.719307 | Va cost: 0.545447 | Va accuracy: 0.718790\n",
      "Epoch 45 | Tr cost: 0.543716 | Tr accuracy 0.719905 | Va cost: 0.544676 | Va accuracy: 0.719260\n",
      "Epoch 46 | Tr cost: 0.542905 | Tr accuracy 0.720630 | Va cost: 0.543990 | Va accuracy: 0.719730\n",
      "Epoch 47 | Tr cost: 0.542143 | Tr accuracy 0.721291 | Va cost: 0.543311 | Va accuracy: 0.720095\n",
      "Epoch 48 | Tr cost: 0.541426 | Tr accuracy 0.721851 | Va cost: 0.542664 | Va accuracy: 0.720600\n",
      "Epoch 49 | Tr cost: 0.540759 | Tr accuracy 0.722333 | Va cost: 0.542063 | Va accuracy: 0.720640\n",
      "Epoch 50 | Tr cost: 0.540142 | Tr accuracy 0.722996 | Va cost: 0.541472 | Va accuracy: 0.721325\n",
      "Epoch 51 | Tr cost: 0.539566 | Tr accuracy 0.723435 | Va cost: 0.540892 | Va accuracy: 0.721960\n",
      "Epoch 52 | Tr cost: 0.539016 | Tr accuracy 0.723727 | Va cost: 0.540326 | Va accuracy: 0.722435\n",
      "Epoch 53 | Tr cost: 0.538485 | Tr accuracy 0.724213 | Va cost: 0.539796 | Va accuracy: 0.722930\n",
      "Epoch 54 | Tr cost: 0.537967 | Tr accuracy 0.724389 | Va cost: 0.539312 | Va accuracy: 0.723165\n",
      "Epoch 55 | Tr cost: 0.537462 | Tr accuracy 0.724483 | Va cost: 0.538849 | Va accuracy: 0.723490\n",
      "Epoch 56 | Tr cost: 0.536974 | Tr accuracy 0.724789 | Va cost: 0.538363 | Va accuracy: 0.723860\n",
      "Epoch 57 | Tr cost: 0.536504 | Tr accuracy 0.725171 | Va cost: 0.537862 | Va accuracy: 0.724505\n",
      "Epoch 58 | Tr cost: 0.536065 | Tr accuracy 0.725439 | Va cost: 0.537379 | Va accuracy: 0.724905\n",
      "Epoch 59 | Tr cost: 0.535668 | Tr accuracy 0.725730 | Va cost: 0.536935 | Va accuracy: 0.725045\n",
      "Epoch 60 | Tr cost: 0.535311 | Tr accuracy 0.726081 | Va cost: 0.536527 | Va accuracy: 0.725175\n",
      "Epoch 61 | Tr cost: 0.534981 | Tr accuracy 0.726270 | Va cost: 0.536144 | Va accuracy: 0.725145\n",
      "Epoch 62 | Tr cost: 0.534657 | Tr accuracy 0.726609 | Va cost: 0.535781 | Va accuracy: 0.725145\n",
      "Epoch 63 | Tr cost: 0.534331 | Tr accuracy 0.726839 | Va cost: 0.535444 | Va accuracy: 0.725480\n",
      "Epoch 64 | Tr cost: 0.534008 | Tr accuracy 0.727019 | Va cost: 0.535134 | Va accuracy: 0.725695\n",
      "Epoch 65 | Tr cost: 0.533694 | Tr accuracy 0.727272 | Va cost: 0.534846 | Va accuracy: 0.725810\n",
      "Epoch 66 | Tr cost: 0.533396 | Tr accuracy 0.727430 | Va cost: 0.534572 | Va accuracy: 0.725995\n",
      "Epoch 67 | Tr cost: 0.533114 | Tr accuracy 0.727675 | Va cost: 0.534303 | Va accuracy: 0.726135\n",
      "Epoch 68 | Tr cost: 0.532846 | Tr accuracy 0.727958 | Va cost: 0.534041 | Va accuracy: 0.726545\n",
      "Epoch 69 | Tr cost: 0.532589 | Tr accuracy 0.728084 | Va cost: 0.533785 | Va accuracy: 0.726820\n",
      "Epoch 70 | Tr cost: 0.532344 | Tr accuracy 0.728272 | Va cost: 0.533535 | Va accuracy: 0.726985\n",
      "Epoch 71 | Tr cost: 0.532106 | Tr accuracy 0.728483 | Va cost: 0.533290 | Va accuracy: 0.727375\n",
      "Epoch 72 | Tr cost: 0.531873 | Tr accuracy 0.728640 | Va cost: 0.533046 | Va accuracy: 0.727540\n",
      "Epoch 73 | Tr cost: 0.531640 | Tr accuracy 0.728834 | Va cost: 0.532802 | Va accuracy: 0.727810\n",
      "Epoch 74 | Tr cost: 0.531404 | Tr accuracy 0.728940 | Va cost: 0.532559 | Va accuracy: 0.727940\n",
      "Epoch 75 | Tr cost: 0.531164 | Tr accuracy 0.728981 | Va cost: 0.532321 | Va accuracy: 0.728040\n",
      "Epoch 76 | Tr cost: 0.530928 | Tr accuracy 0.729099 | Va cost: 0.532106 | Va accuracy: 0.728295\n",
      "Epoch 77 | Tr cost: 0.530700 | Tr accuracy 0.729296 | Va cost: 0.531910 | Va accuracy: 0.728385\n",
      "Epoch 78 | Tr cost: 0.530481 | Tr accuracy 0.729496 | Va cost: 0.531709 | Va accuracy: 0.728435\n",
      "Epoch 79 | Tr cost: 0.530266 | Tr accuracy 0.729599 | Va cost: 0.531504 | Va accuracy: 0.728620\n",
      "Epoch 80 | Tr cost: 0.530056 | Tr accuracy 0.729768 | Va cost: 0.531301 | Va accuracy: 0.728825\n",
      "Epoch 81 | Tr cost: 0.529857 | Tr accuracy 0.729879 | Va cost: 0.531111 | Va accuracy: 0.728790\n",
      "Epoch 82 | Tr cost: 0.529672 | Tr accuracy 0.730050 | Va cost: 0.530939 | Va accuracy: 0.728865\n",
      "Epoch 83 | Tr cost: 0.529502 | Tr accuracy 0.730147 | Va cost: 0.530781 | Va accuracy: 0.729060\n",
      "Epoch 84 | Tr cost: 0.529343 | Tr accuracy 0.730219 | Va cost: 0.530628 | Va accuracy: 0.729175\n",
      "Epoch 85 | Tr cost: 0.529189 | Tr accuracy 0.730345 | Va cost: 0.530477 | Va accuracy: 0.729275\n",
      "Epoch 86 | Tr cost: 0.529036 | Tr accuracy 0.730405 | Va cost: 0.530327 | Va accuracy: 0.729370\n"
     ]
    },
    {
     "name": "stdout",
     "output_type": "stream",
     "text": [
      "Epoch 87 | Tr cost: 0.528885 | Tr accuracy 0.730514 | Va cost: 0.530184 | Va accuracy: 0.729550\n",
      "Epoch 88 | Tr cost: 0.528742 | Tr accuracy 0.730560 | Va cost: 0.530048 | Va accuracy: 0.729720\n",
      "Epoch 89 | Tr cost: 0.528608 | Tr accuracy 0.730631 | Va cost: 0.529918 | Va accuracy: 0.729815\n",
      "Epoch 90 | Tr cost: 0.528481 | Tr accuracy 0.730725 | Va cost: 0.529793 | Va accuracy: 0.729740\n",
      "Epoch 91 | Tr cost: 0.528358 | Tr accuracy 0.730780 | Va cost: 0.529672 | Va accuracy: 0.729735\n",
      "Epoch 92 | Tr cost: 0.528237 | Tr accuracy 0.730800 | Va cost: 0.529552 | Va accuracy: 0.729820\n",
      "Epoch 93 | Tr cost: 0.528118 | Tr accuracy 0.730855 | Va cost: 0.529436 | Va accuracy: 0.730055\n",
      "Epoch 94 | Tr cost: 0.528003 | Tr accuracy 0.730844 | Va cost: 0.529324 | Va accuracy: 0.730105\n",
      "Epoch 95 | Tr cost: 0.527894 | Tr accuracy 0.730834 | Va cost: 0.529217 | Va accuracy: 0.730200\n",
      "Epoch 96 | Tr cost: 0.527790 | Tr accuracy 0.730873 | Va cost: 0.529115 | Va accuracy: 0.730160\n",
      "Epoch 97 | Tr cost: 0.527690 | Tr accuracy 0.730920 | Va cost: 0.529015 | Va accuracy: 0.730250\n",
      "Epoch 98 | Tr cost: 0.527593 | Tr accuracy 0.730956 | Va cost: 0.528920 | Va accuracy: 0.730345\n",
      "Epoch 99 | Tr cost: 0.527498 | Tr accuracy 0.731038 | Va cost: 0.528830 | Va accuracy: 0.730425\n",
      "Epoch 100 | Tr cost: 0.527408 | Tr accuracy 0.731005 | Va cost: 0.528744 | Va accuracy: 0.730545\n",
      "Epoch 101 | Tr cost: 0.527322 | Tr accuracy 0.731054 | Va cost: 0.528665 | Va accuracy: 0.730575\n",
      "Epoch 102 | Tr cost: 0.527241 | Tr accuracy 0.731091 | Va cost: 0.528589 | Va accuracy: 0.730530\n",
      "Epoch 103 | Tr cost: 0.527164 | Tr accuracy 0.731205 | Va cost: 0.528518 | Va accuracy: 0.730590\n",
      "Epoch 104 | Tr cost: 0.527090 | Tr accuracy 0.731220 | Va cost: 0.528451 | Va accuracy: 0.730560\n",
      "Epoch 105 | Tr cost: 0.527017 | Tr accuracy 0.731186 | Va cost: 0.528390 | Va accuracy: 0.730650\n",
      "Epoch 106 | Tr cost: 0.526946 | Tr accuracy 0.731208 | Va cost: 0.528334 | Va accuracy: 0.730600\n",
      "Epoch 107 | Tr cost: 0.526878 | Tr accuracy 0.731235 | Va cost: 0.528282 | Va accuracy: 0.730595\n",
      "Epoch 108 | Tr cost: 0.526809 | Tr accuracy 0.731232 | Va cost: 0.528233 | Va accuracy: 0.730555\n",
      "Epoch 109 | Tr cost: 0.526743 | Tr accuracy 0.731330 | Va cost: 0.528183 | Va accuracy: 0.730650\n",
      "Epoch 110 | Tr cost: 0.526675 | Tr accuracy 0.731322 | Va cost: 0.528131 | Va accuracy: 0.730695\n",
      "Epoch 111 | Tr cost: 0.526607 | Tr accuracy 0.731380 | Va cost: 0.528079 | Va accuracy: 0.730680\n",
      "Epoch 112 | Tr cost: 0.526539 | Tr accuracy 0.731436 | Va cost: 0.528024 | Va accuracy: 0.730700\n",
      "Epoch 113 | Tr cost: 0.526473 | Tr accuracy 0.731516 | Va cost: 0.527968 | Va accuracy: 0.730650\n",
      "Epoch 114 | Tr cost: 0.526407 | Tr accuracy 0.731548 | Va cost: 0.527915 | Va accuracy: 0.730565\n",
      "Epoch 115 | Tr cost: 0.526343 | Tr accuracy 0.731577 | Va cost: 0.527865 | Va accuracy: 0.730520\n",
      "Epoch 116 | Tr cost: 0.526282 | Tr accuracy 0.731641 | Va cost: 0.527819 | Va accuracy: 0.730560\n",
      "Epoch 117 | Tr cost: 0.526223 | Tr accuracy 0.731612 | Va cost: 0.527776 | Va accuracy: 0.730480\n",
      "Epoch 118 | Tr cost: 0.526167 | Tr accuracy 0.731590 | Va cost: 0.527739 | Va accuracy: 0.730540\n",
      "Epoch 119 | Tr cost: 0.526111 | Tr accuracy 0.731604 | Va cost: 0.527703 | Va accuracy: 0.730610\n",
      "Epoch 120 | Tr cost: 0.526058 | Tr accuracy 0.731636 | Va cost: 0.527667 | Va accuracy: 0.730670\n",
      "Epoch 121 | Tr cost: 0.526005 | Tr accuracy 0.731672 | Va cost: 0.527631 | Va accuracy: 0.730770\n",
      "Epoch 122 | Tr cost: 0.525953 | Tr accuracy 0.731676 | Va cost: 0.527593 | Va accuracy: 0.730940\n",
      "Epoch 123 | Tr cost: 0.525901 | Tr accuracy 0.731664 | Va cost: 0.527556 | Va accuracy: 0.731070\n",
      "Epoch 124 | Tr cost: 0.525848 | Tr accuracy 0.731695 | Va cost: 0.527515 | Va accuracy: 0.731085\n",
      "Epoch 125 | Tr cost: 0.525796 | Tr accuracy 0.731668 | Va cost: 0.527474 | Va accuracy: 0.731170\n",
      "Epoch 126 | Tr cost: 0.525744 | Tr accuracy 0.731769 | Va cost: 0.527433 | Va accuracy: 0.731165\n",
      "Epoch 127 | Tr cost: 0.525693 | Tr accuracy 0.731756 | Va cost: 0.527390 | Va accuracy: 0.731110\n",
      "Epoch 128 | Tr cost: 0.525643 | Tr accuracy 0.731773 | Va cost: 0.527346 | Va accuracy: 0.731095\n",
      "Epoch 129 | Tr cost: 0.525592 | Tr accuracy 0.731814 | Va cost: 0.527301 | Va accuracy: 0.731045\n",
      "Epoch 130 | Tr cost: 0.525543 | Tr accuracy 0.731885 | Va cost: 0.527255 | Va accuracy: 0.731165\n",
      "Epoch 131 | Tr cost: 0.525493 | Tr accuracy 0.731938 | Va cost: 0.527207 | Va accuracy: 0.731240\n",
      "Epoch 132 | Tr cost: 0.525444 | Tr accuracy 0.731999 | Va cost: 0.527160 | Va accuracy: 0.731355\n",
      "Epoch 133 | Tr cost: 0.525395 | Tr accuracy 0.732028 | Va cost: 0.527111 | Va accuracy: 0.731390\n",
      "Epoch 134 | Tr cost: 0.525347 | Tr accuracy 0.732144 | Va cost: 0.527060 | Va accuracy: 0.731475\n",
      "Epoch 135 | Tr cost: 0.525298 | Tr accuracy 0.732169 | Va cost: 0.527008 | Va accuracy: 0.731530\n",
      "Epoch 136 | Tr cost: 0.525249 | Tr accuracy 0.732186 | Va cost: 0.526955 | Va accuracy: 0.731575\n",
      "Epoch 137 | Tr cost: 0.525199 | Tr accuracy 0.732219 | Va cost: 0.526898 | Va accuracy: 0.731540\n",
      "Epoch 138 | Tr cost: 0.525147 | Tr accuracy 0.732249 | Va cost: 0.526837 | Va accuracy: 0.731530\n",
      "Epoch 139 | Tr cost: 0.525093 | Tr accuracy 0.732348 | Va cost: 0.526773 | Va accuracy: 0.731415\n",
      "Epoch 140 | Tr cost: 0.525036 | Tr accuracy 0.732394 | Va cost: 0.526704 | Va accuracy: 0.731445\n",
      "Epoch 141 | Tr cost: 0.524973 | Tr accuracy 0.732410 | Va cost: 0.526629 | Va accuracy: 0.731380\n",
      "Epoch 142 | Tr cost: 0.524906 | Tr accuracy 0.732434 | Va cost: 0.526548 | Va accuracy: 0.731490\n",
      "Epoch 143 | Tr cost: 0.524831 | Tr accuracy 0.732448 | Va cost: 0.526461 | Va accuracy: 0.731670\n",
      "Epoch 144 | Tr cost: 0.524749 | Tr accuracy 0.732483 | Va cost: 0.526370 | Va accuracy: 0.731780\n",
      "Epoch 145 | Tr cost: 0.524659 | Tr accuracy 0.732525 | Va cost: 0.526276 | Va accuracy: 0.731860\n",
      "Epoch 146 | Tr cost: 0.524562 | Tr accuracy 0.732648 | Va cost: 0.526184 | Va accuracy: 0.732105\n",
      "Epoch 147 | Tr cost: 0.524460 | Tr accuracy 0.732684 | Va cost: 0.526097 | Va accuracy: 0.732345\n",
      "Epoch 148 | Tr cost: 0.524356 | Tr accuracy 0.732780 | Va cost: 0.526014 | Va accuracy: 0.732380\n",
      "Epoch 149 | Tr cost: 0.524254 | Tr accuracy 0.732824 | Va cost: 0.525936 | Va accuracy: 0.732510\n",
      "Epoch 150 | Tr cost: 0.524155 | Tr accuracy 0.732984 | Va cost: 0.525858 | Va accuracy: 0.732425\n",
      "Epoch 151 | Tr cost: 0.524062 | Tr accuracy 0.733012 | Va cost: 0.525790 | Va accuracy: 0.732490\n",
      "Epoch 152 | Tr cost: 0.523975 | Tr accuracy 0.733135 | Va cost: 0.525726 | Va accuracy: 0.732535\n",
      "Epoch 153 | Tr cost: 0.523895 | Tr accuracy 0.733105 | Va cost: 0.525669 | Va accuracy: 0.732700\n",
      "Epoch 154 | Tr cost: 0.523820 | Tr accuracy 0.733184 | Va cost: 0.525612 | Va accuracy: 0.732815\n",
      "Epoch 155 | Tr cost: 0.523750 | Tr accuracy 0.733294 | Va cost: 0.525557 | Va accuracy: 0.732900\n",
      "Epoch 156 | Tr cost: 0.523682 | Tr accuracy 0.733344 | Va cost: 0.525506 | Va accuracy: 0.732945\n",
      "Epoch 157 | Tr cost: 0.523616 | Tr accuracy 0.733395 | Va cost: 0.525453 | Va accuracy: 0.732930\n",
      "Epoch 158 | Tr cost: 0.523553 | Tr accuracy 0.733463 | Va cost: 0.525403 | Va accuracy: 0.733065\n",
      "Epoch 159 | Tr cost: 0.523492 | Tr accuracy 0.733504 | Va cost: 0.525354 | Va accuracy: 0.733200\n",
      "Epoch 160 | Tr cost: 0.523436 | Tr accuracy 0.733514 | Va cost: 0.525308 | Va accuracy: 0.733250\n",
      "Epoch 161 | Tr cost: 0.523382 | Tr accuracy 0.733499 | Va cost: 0.525263 | Va accuracy: 0.733435\n",
      "Epoch 162 | Tr cost: 0.523331 | Tr accuracy 0.733572 | Va cost: 0.525219 | Va accuracy: 0.733515\n",
      "Epoch 163 | Tr cost: 0.523282 | Tr accuracy 0.733550 | Va cost: 0.525175 | Va accuracy: 0.733465\n",
      "Epoch 164 | Tr cost: 0.523235 | Tr accuracy 0.733560 | Va cost: 0.525130 | Va accuracy: 0.733470\n",
      "Epoch 165 | Tr cost: 0.523189 | Tr accuracy 0.733550 | Va cost: 0.525086 | Va accuracy: 0.733580\n",
      "Epoch 166 | Tr cost: 0.523146 | Tr accuracy 0.733579 | Va cost: 0.525043 | Va accuracy: 0.733585\n",
      "Epoch 167 | Tr cost: 0.523103 | Tr accuracy 0.733591 | Va cost: 0.524998 | Va accuracy: 0.733550\n",
      "Epoch 168 | Tr cost: 0.523062 | Tr accuracy 0.733554 | Va cost: 0.524953 | Va accuracy: 0.733575\n",
      "Epoch 169 | Tr cost: 0.523023 | Tr accuracy 0.733534 | Va cost: 0.524908 | Va accuracy: 0.733495\n",
      "Epoch 170 | Tr cost: 0.522985 | Tr accuracy 0.733609 | Va cost: 0.524863 | Va accuracy: 0.733460\n",
      "Epoch 171 | Tr cost: 0.522948 | Tr accuracy 0.733624 | Va cost: 0.524816 | Va accuracy: 0.733550\n"
     ]
    },
    {
     "name": "stdout",
     "output_type": "stream",
     "text": [
      "Epoch 172 | Tr cost: 0.522911 | Tr accuracy 0.733630 | Va cost: 0.524768 | Va accuracy: 0.733540\n",
      "Epoch 173 | Tr cost: 0.522875 | Tr accuracy 0.733666 | Va cost: 0.524720 | Va accuracy: 0.733455\n",
      "Epoch 174 | Tr cost: 0.522839 | Tr accuracy 0.733690 | Va cost: 0.524673 | Va accuracy: 0.733435\n",
      "Epoch 175 | Tr cost: 0.522805 | Tr accuracy 0.733741 | Va cost: 0.524624 | Va accuracy: 0.733525\n",
      "Epoch 176 | Tr cost: 0.522770 | Tr accuracy 0.733791 | Va cost: 0.524575 | Va accuracy: 0.733620\n",
      "Epoch 177 | Tr cost: 0.522736 | Tr accuracy 0.733842 | Va cost: 0.524527 | Va accuracy: 0.733710\n",
      "Epoch 178 | Tr cost: 0.522703 | Tr accuracy 0.733844 | Va cost: 0.524480 | Va accuracy: 0.733705\n",
      "Epoch 179 | Tr cost: 0.522669 | Tr accuracy 0.733845 | Va cost: 0.524431 | Va accuracy: 0.733685\n",
      "Epoch 180 | Tr cost: 0.522636 | Tr accuracy 0.733832 | Va cost: 0.524384 | Va accuracy: 0.733670\n",
      "Epoch 181 | Tr cost: 0.522603 | Tr accuracy 0.733871 | Va cost: 0.524337 | Va accuracy: 0.733735\n",
      "Epoch 182 | Tr cost: 0.522571 | Tr accuracy 0.733940 | Va cost: 0.524292 | Va accuracy: 0.733715\n",
      "Epoch 183 | Tr cost: 0.522538 | Tr accuracy 0.733999 | Va cost: 0.524247 | Va accuracy: 0.733725\n",
      "Epoch 184 | Tr cost: 0.522506 | Tr accuracy 0.734000 | Va cost: 0.524204 | Va accuracy: 0.733770\n",
      "Epoch 185 | Tr cost: 0.522475 | Tr accuracy 0.734005 | Va cost: 0.524162 | Va accuracy: 0.733795\n",
      "Epoch 186 | Tr cost: 0.522443 | Tr accuracy 0.734016 | Va cost: 0.524123 | Va accuracy: 0.733805\n",
      "Epoch 187 | Tr cost: 0.522412 | Tr accuracy 0.734000 | Va cost: 0.524084 | Va accuracy: 0.733850\n",
      "Epoch 188 | Tr cost: 0.522382 | Tr accuracy 0.734003 | Va cost: 0.524046 | Va accuracy: 0.733860\n",
      "Epoch 189 | Tr cost: 0.522351 | Tr accuracy 0.734079 | Va cost: 0.524010 | Va accuracy: 0.733865\n",
      "Epoch 190 | Tr cost: 0.522323 | Tr accuracy 0.734086 | Va cost: 0.523975 | Va accuracy: 0.733925\n",
      "Epoch 191 | Tr cost: 0.522293 | Tr accuracy 0.734124 | Va cost: 0.523941 | Va accuracy: 0.733975\n",
      "Epoch 192 | Tr cost: 0.522264 | Tr accuracy 0.734166 | Va cost: 0.523909 | Va accuracy: 0.734010\n",
      "Epoch 193 | Tr cost: 0.522236 | Tr accuracy 0.734204 | Va cost: 0.523879 | Va accuracy: 0.734015\n",
      "Epoch 194 | Tr cost: 0.522208 | Tr accuracy 0.734223 | Va cost: 0.523848 | Va accuracy: 0.734065\n",
      "Epoch 195 | Tr cost: 0.522181 | Tr accuracy 0.734235 | Va cost: 0.523819 | Va accuracy: 0.734110\n",
      "Epoch 196 | Tr cost: 0.522154 | Tr accuracy 0.734274 | Va cost: 0.523791 | Va accuracy: 0.734125\n",
      "Epoch 197 | Tr cost: 0.522127 | Tr accuracy 0.734286 | Va cost: 0.523762 | Va accuracy: 0.734220\n",
      "Epoch 198 | Tr cost: 0.522100 | Tr accuracy 0.734331 | Va cost: 0.523736 | Va accuracy: 0.734195\n",
      "Epoch 199 | Tr cost: 0.522075 | Tr accuracy 0.734348 | Va cost: 0.523709 | Va accuracy: 0.734280\n",
      "Epoch 200 | Tr cost: 0.522049 | Tr accuracy 0.734352 | Va cost: 0.523684 | Va accuracy: 0.734290\n",
      "Optimization Finished!\n",
      "Calculating predictions of the model on the test set\n",
      "Inference done. Now saving the predictions in a list.\n"
     ]
    }
   ],
   "source": [
    "training_costs, validation_costs, training_accs, validation_accs, test_predictions = train_nn()"
   ]
  },
  {
   "cell_type": "code",
   "execution_count": 38,
   "metadata": {
    "ExecuteTime": {
     "end_time": "2018-08-01T17:59:34.690979Z",
     "start_time": "2018-08-01T17:59:34.681079Z"
    },
    "nbgrader": {
     "grade": true,
     "grade_id": "typechecks_v",
     "locked": true,
     "points": "5",
     "schema_version": 1,
     "solution": false
    }
   },
   "outputs": [],
   "source": [
    "## making sure your train_nn() function returns variables as expected\n",
    "assert type(training_accs)==list,\"incorrect return type\"\n",
    "assert type(validation_accs)==list, \"incorrect return type\"\n",
    "assert type(training_costs)==list, \"incorrect return type\"\n",
    "assert type(validation_costs)==list,\"incorrect return type\"\n",
    "assert type(test_predictions[0])==type(training_accs[0])==type(validation_accs[0])==type(training_costs[0])==type(validation_costs[0])==np.float64, \"incorrect return type\"\n",
    "assert len(training_accs)==len(validation_accs)==len(training_costs)==len(validation_costs)==training_epochs,\"incorrect returned lengths\"\n",
    "assert len(test_predictions)==len(test_features),\"incorrect returned lengths\""
   ]
  },
  {
   "cell_type": "markdown",
   "metadata": {
    "nbgrader": {
     "grade": false,
     "grade_id": "cell-4ed33d0856316a08",
     "locked": true,
     "schema_version": 1,
     "solution": false
    }
   },
   "source": [
    "### Analyzing cost and accuracy trends vs number of epochs"
   ]
  },
  {
   "cell_type": "code",
   "execution_count": 39,
   "metadata": {
    "ExecuteTime": {
     "end_time": "2018-08-01T17:59:38.595140Z",
     "start_time": "2018-08-01T17:59:38.589746Z"
    },
    "nbgrader": {
     "grade": false,
     "grade_id": "cell-450747d7f0431e00",
     "locked": true,
     "schema_version": 1,
     "solution": false
    },
    "scrolled": false
   },
   "outputs": [],
   "source": [
    "def plot_cost_vs_epochs(training_costs, validation_costs):\n",
    "    plt.title(\"cost vs epochs\")\n",
    "    plt.plot(training_costs)\n",
    "    plt.plot(validation_costs)\n",
    "    plt.legend([\"training\",\"validation\"])"
   ]
  },
  {
   "cell_type": "code",
   "execution_count": 40,
   "metadata": {
    "ExecuteTime": {
     "end_time": "2018-08-01T17:59:39.457054Z",
     "start_time": "2018-08-01T17:59:39.451992Z"
    },
    "nbgrader": {
     "grade": false,
     "grade_id": "cell-78d0e31f3ed4005e",
     "locked": true,
     "schema_version": 1,
     "solution": false
    },
    "scrolled": true
   },
   "outputs": [],
   "source": [
    "def plot_acc_vs_epochs(training_acc, validation_acc):\n",
    "    plt.title(\"accuracy vs epochs\")\n",
    "    plt.plot(training_acc)\n",
    "    plt.plot(validation_acc)\n",
    "    plt.legend([\"training\",\"validation\"])"
   ]
  },
  {
   "cell_type": "code",
   "execution_count": 41,
   "metadata": {
    "ExecuteTime": {
     "end_time": "2018-08-01T17:59:42.593384Z",
     "start_time": "2018-08-01T17:59:42.585724Z"
    },
    "nbgrader": {
     "grade": false,
     "grade_id": "cell-5f2c5d57928f7a69",
     "locked": true,
     "schema_version": 1,
     "solution": false
    }
   },
   "outputs": [],
   "source": [
    "\n",
    "def plots(training_costs, validation_costs, training_accs, validation_accs):\n",
    "    \n",
    "    fig = plt.figure(figsize=(20,10))\n",
    "    \n",
    "    plt.subplot(1,2,1)\n",
    "    plot_cost_vs_epochs(training_costs, validation_costs)\n",
    "    plt.subplot(1,2,2)\n",
    "    plot_acc_vs_epochs(training_accs, validation_accs)"
   ]
  },
  {
   "cell_type": "code",
   "execution_count": 42,
   "metadata": {
    "ExecuteTime": {
     "end_time": "2018-08-01T17:59:45.358410Z",
     "start_time": "2018-08-01T17:59:44.840517Z"
    }
   },
   "outputs": [
    {
     "data": {
      "image/png": "[encoded data removed]",
      "text/plain": [
       "<Figure size 1440x720 with 2 Axes>"
      ]
     },
     "metadata": {},
     "output_type": "display_data"
    }
   ],
   "source": [
    "plots(training_costs, validation_costs, training_accs, validation_accs)"
   ]
  },
  {
   "cell_type": "markdown",
   "metadata": {
    "nbgrader": {
     "grade": false,
     "grade_id": "cell-7e48102290dfc483",
     "locked": true,
     "schema_version": 1,
     "solution": false
    }
   },
   "source": [
    "### Scoring Your Test Predictions\n",
    "\n",
    "The following code saves your test predictions locally in the same directory.\n",
    "\n",
    "It is required in order to give you a grade based on your network's performance."
   ]
  },
  {
   "cell_type": "code",
   "execution_count": 43,
   "metadata": {
    "ExecuteTime": {
     "end_time": "2018-08-01T17:59:49.453567Z",
     "start_time": "2018-08-01T17:59:48.823066Z"
    },
    "nbgrader": {
     "grade": false,
     "grade_id": "cell-9130fc95b3adda93",
     "locked": true,
     "schema_version": 1,
     "solution": false
    }
   },
   "outputs": [],
   "source": [
    "import pickle\n",
    "def save_test_predictions(test_predictions):\n",
    "     with open(cfg['output_predictions_pickle_path'], 'wb') as f:\n",
    "        pickle.dump(test_predictions, f)\n",
    "save_test_predictions(test_predictions)"
   ]
  },
  {
   "cell_type": "code",
   "execution_count": null,
   "metadata": {
    "nbgrader": {
     "grade": true,
     "grade_id": "threshold1_h",
     "locked": true,
     "points": "5",
     "schema_version": 1,
     "solution": false
    },
    "scrolled": true
   },
   "outputs": [],
   "source": [
    "#Hidden tests here\n",
    "#\n",
    "# AUTOGRADER TEST - DO NOT REMOVE\n",
    "#\n"
   ]
  },
  {
   "cell_type": "code",
   "execution_count": null,
   "metadata": {
    "nbgrader": {
     "grade": true,
     "grade_id": "threshold2_h",
     "locked": true,
     "points": "10",
     "schema_version": 1,
     "solution": false
    }
   },
   "outputs": [],
   "source": [
    "#Hidden tests here\n",
    "#\n",
    "# AUTOGRADER TEST - DO NOT REMOVE\n",
    "#\n"
   ]
  },
  {
   "cell_type": "code",
   "execution_count": null,
   "metadata": {
    "nbgrader": {
     "grade": true,
     "grade_id": "threshold3_h",
     "locked": true,
     "points": "15",
     "schema_version": 1,
     "solution": false
    }
   },
   "outputs": [],
   "source": [
    "#Hidden tests here\n",
    "#\n",
    "# AUTOGRADER TEST - DO NOT REMOVE\n",
    "#\n"
   ]
  },
  {
   "cell_type": "code",
   "execution_count": null,
   "metadata": {
    "nbgrader": {
     "grade": true,
     "grade_id": "threshold4_h",
     "locked": true,
     "points": "20",
     "schema_version": 1,
     "solution": false
    },
    "scrolled": true
   },
   "outputs": [],
   "source": [
    "#Hidden tests here\n",
    "#\n",
    "# AUTOGRADER TEST - DO NOT REMOVE\n",
    "#\n"
   ]
  }
 ],
 "metadata": {
  "celltoolbar": "Edit Metadata",
  "kernelspec": {
   "display_name": "Python 3",
   "language": "python",
   "name": "python3"
  },
  "language_info": {
   "codemirror_mode": {
    "name": "ipython",
    "version": 3
   },
   "file_extension": ".py",
   "mimetype": "text/x-python",
   "name": "python",
   "nbconvert_exporter": "python",
   "pygments_lexer": "ipython3",
   "version": "3.6.5"
  },
  "toc": {
   "base_numbering": 1,
   "nav_menu": [],
   "number_sections": true,
   "sideBar": true,
   "skip_h1_title": false,
   "title_cell": "Table of Contents",
   "title_sidebar": "Contents",
   "toc_cell": false,
   "toc_position": [],
   "toc_section_display": true,
   "toc_window_display": false
  },
  "varInspector": {
   "cols": {
    "lenName": 16,
    "lenType": 16,
    "lenVar": 40
   },
   "kernels_config": {
    "python": {
     "delete_cmd_postfix": "",
     "delete_cmd_prefix": "del ",
     "library": "var_list.py",
     "varRefreshCmd": "print(var_dic_list())"
    },
    "r": {
     "delete_cmd_postfix": ") ",
     "delete_cmd_prefix": "rm(",
     "library": "var_list.r",
     "varRefreshCmd": "cat(var_dic_list()) "
    }
   },
   "types_to_exclude": [
    "module",
    "function",
    "builtin_function_or_method",
    "instance",
    "_Feature"
   ],
   "window_display": false
  }
 },
 "nbformat": 4,
 "nbformat_minor": 2
}
